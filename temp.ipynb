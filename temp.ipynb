{
 "cells": [
  {
   "cell_type": "code",
   "execution_count": 1,
   "metadata": {},
   "outputs": [],
   "source": [
    "from groups import dihedral"
   ]
  },
  {
   "cell_type": "code",
   "execution_count": 2,
   "metadata": {},
   "outputs": [
    {
     "data": {
      "text/plain": [
       "[[<groups.dihedral.Dihedral.members at 0x24ff8296150>,\n",
       "  <groups.dihedral.Dihedral.members at 0x24ff83d3710>,\n",
       "  <groups.dihedral.Dihedral.members at 0x24ff83d0530>,\n",
       "  <groups.dihedral.Dihedral.members at 0x24fe87f8260>,\n",
       "  <groups.dihedral.Dihedral.members at 0x24fe9fa2420>,\n",
       "  <groups.dihedral.Dihedral.members at 0x24fe9fa2930>],\n",
       " [<groups.dihedral.Dihedral.members at 0x24ff83d3710>,\n",
       "  <groups.dihedral.Dihedral.members at 0x24ff83d0530>,\n",
       "  <groups.dihedral.Dihedral.members at 0x24ff8296150>,\n",
       "  <groups.dihedral.Dihedral.members at 0x24fe9fa2930>,\n",
       "  <groups.dihedral.Dihedral.members at 0x24fe87f8260>,\n",
       "  <groups.dihedral.Dihedral.members at 0x24fe9fa2420>],\n",
       " [<groups.dihedral.Dihedral.members at 0x24ff83d0530>,\n",
       "  <groups.dihedral.Dihedral.members at 0x24ff8296150>,\n",
       "  <groups.dihedral.Dihedral.members at 0x24ff83d3710>,\n",
       "  <groups.dihedral.Dihedral.members at 0x24fe9fa2420>,\n",
       "  <groups.dihedral.Dihedral.members at 0x24fe9fa2930>,\n",
       "  <groups.dihedral.Dihedral.members at 0x24fe87f8260>],\n",
       " [<groups.dihedral.Dihedral.members at 0x24fe87f8260>,\n",
       "  <groups.dihedral.Dihedral.members at 0x24fe9fa2420>,\n",
       "  <groups.dihedral.Dihedral.members at 0x24fe9fa2930>,\n",
       "  <groups.dihedral.Dihedral.members at 0x24ff8296150>,\n",
       "  <groups.dihedral.Dihedral.members at 0x24ff83d3710>,\n",
       "  <groups.dihedral.Dihedral.members at 0x24ff83d0530>],\n",
       " [<groups.dihedral.Dihedral.members at 0x24fe9fa2420>,\n",
       "  <groups.dihedral.Dihedral.members at 0x24fe9fa2930>,\n",
       "  <groups.dihedral.Dihedral.members at 0x24fe87f8260>,\n",
       "  <groups.dihedral.Dihedral.members at 0x24ff83d0530>,\n",
       "  <groups.dihedral.Dihedral.members at 0x24ff8296150>,\n",
       "  <groups.dihedral.Dihedral.members at 0x24ff83d3710>],\n",
       " [<groups.dihedral.Dihedral.members at 0x24fe9fa2930>,\n",
       "  <groups.dihedral.Dihedral.members at 0x24fe87f8260>,\n",
       "  <groups.dihedral.Dihedral.members at 0x24fe9fa2420>,\n",
       "  <groups.dihedral.Dihedral.members at 0x24ff83d3710>,\n",
       "  <groups.dihedral.Dihedral.members at 0x24ff83d0530>,\n",
       "  <groups.dihedral.Dihedral.members at 0x24ff8296150>]]"
      ]
     },
     "execution_count": 2,
     "metadata": {},
     "output_type": "execute_result"
    }
   ],
   "source": [
    "k = dihedral.Dihedral.Dn(3)\n",
    "k.cayleys()"
   ]
  },
  {
   "cell_type": "code",
   "execution_count": 1,
   "metadata": {},
   "outputs": [
    {
     "name": "stdout",
     "output_type": "stream",
     "text": [
      "[matrix([[ 0.76255455, -0.64692392,  0.        ]]), matrix([[-0.37961889, -0.92514296,  0.        ]]), matrix([[-0.99717193,  0.07515413,  0.        ]]), matrix([[-0.23666725,  0.97159076,  0.        ]]), matrix([[0.85090352, 0.52532199, 0.        ]])]\n"
     ]
    }
   ],
   "source": [
    "from functools import cache\n",
    "from math import pi, sin, cos, sqrt\n",
    "from numpy import matrix, size, shape\n",
    "\n",
    "@cache\n",
    "def circle(numbers,\n",
    "           radius=1):\n",
    "    points = []\n",
    "    r = sqrt(radius)\n",
    "    for i in range(1,numbers+1):\n",
    "        points.append([r*sin(2*i*pi/numbers), r*cos(2*i*pi/numbers),0])\n",
    "    return points\n",
    "\n",
    "def rotation_matrix_x(angle):\n",
    "    return [[1, 0, 0], [0, cos(angle), -sin(angle)], [0, sin(angle), cos(angle)]]\n",
    "\n",
    "def rotation_matrix_y(angle):\n",
    "    return [[cos(angle), 0, sin(angle)], [0, 1, 0], [-sin(angle), 0, cos(angle)]]\n",
    "\n",
    "def rotation_matrix_z(angle):\n",
    "    return matrix([[cos(angle), -sin(angle), 0], [sin(angle), cos(angle), 0], [0, 0, 1]])\n",
    "\n",
    "\n",
    "\n",
    "def sphere(circle,\n",
    "           cosets):\n",
    "    points = []\n",
    "    for i in cosets:\n",
    "        ..."
   ]
  },
  {
   "cell_type": "code",
   "execution_count": 5,
   "metadata": {},
   "outputs": [],
   "source": [
    "maps = dict(zip([(i,j) for i in range(2) for j in range(4)], range(8)))\n"
   ]
  },
  {
   "cell_type": "code",
   "execution_count": 15,
   "metadata": {},
   "outputs": [
    {
     "name": "stdout",
     "output_type": "stream",
     "text": [
      "1 1\n",
      "2 12\n",
      "3 3\n",
      "4 6\n",
      "5 4\n",
      "6 12\n",
      "7 12\n",
      "8 4\n",
      "9 3\n",
      "10 6\n",
      "11 12\n",
      "12 2\n"
     ]
    }
   ],
   "source": [
    "for i in k.elements:\n",
    "    print(i, i.order)\n",
    "    "
   ]
  },
  {
   "cell_type": "code",
   "execution_count": 5,
   "metadata": {},
   "outputs": [
    {
     "data": {
      "text/plain": [
       "[<groups.modulo.modulos.members at 0x1e89d517140>,\n",
       " <groups.modulo.modulos.members at 0x1e89d517050>,\n",
       " <groups.modulo.modulos.members at 0x1e89d517170>,\n",
       " <groups.modulo.modulos.members at 0x1e89d5171a0>,\n",
       " <groups.modulo.modulos.members at 0x1e89d5171d0>,\n",
       " <groups.modulo.modulos.members at 0x1e89d517200>,\n",
       " <groups.modulo.modulos.members at 0x1e89d517230>,\n",
       " <groups.modulo.modulos.members at 0x1e89d517260>,\n",
       " <groups.modulo.modulos.members at 0x1e89d516990>,\n",
       " <groups.modulo.modulos.members at 0x1e89d517110>]"
      ]
     },
     "execution_count": 5,
     "metadata": {},
     "output_type": "execute_result"
    }
   ],
   "source": [
    "k._cycles(2)"
   ]
  }
 ],
 "metadata": {
  "kernelspec": {
   "display_name": "Python 3",
   "language": "python",
   "name": "python3"
  },
  "language_info": {
   "codemirror_mode": {
    "name": "ipython",
    "version": 3
   },
   "file_extension": ".py",
   "mimetype": "text/x-python",
   "name": "python",
   "nbconvert_exporter": "python",
   "pygments_lexer": "ipython3",
   "version": "3.12.7"
  }
 },
 "nbformat": 4,
 "nbformat_minor": 2
}
