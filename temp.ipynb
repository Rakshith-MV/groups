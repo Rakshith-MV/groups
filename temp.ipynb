{
 "cells": [
  {
   "cell_type": "code",
   "execution_count": 3,
   "metadata": {},
   "outputs": [],
   "source": [
    "def prime(n):\n",
    "    for i in range(2,int(n/2)):\n",
    "        if n%i == 0:\n",
    "            return 0\n",
    "    return 1\n"
   ]
  },
  {
   "cell_type": "code",
   "execution_count": 1,
   "metadata": {},
   "outputs": [],
   "source": [
    "primes = [2,3,4,5,7,11,13,17,19,23,29,31,37,41,43,47,53,59,61,67,71,73,79,83,89,97,101,103,107,109,113,127,131,137,139,149,151,157,163,167,173,179,181,191,193,197,199]\n",
    "\n",
    "def prime_decomposition(\n",
    "        k:int\n",
    "        ):\n",
    "    i = 0\n",
    "    factors = {}\n",
    "    while k != 1:\n",
    "        if k%primes[i]  == 0:\n",
    "            k = k//primes[i]\n",
    "            if primes[i] not in factors.keys():\n",
    "                factors[primes[i]] = 1\n",
    "            else:\n",
    "                factors[primes[i]]+=1\n",
    "        else:\n",
    "            i+=1\n",
    "\n",
    "\n",
    "\n",
    "    return factors"
   ]
  },
  {
   "cell_type": "code",
   "execution_count": 1,
   "metadata": {},
   "outputs": [],
   "source": [
    "from groups import Mn"
   ]
  },
  {
   "cell_type": "code",
   "execution_count": 2,
   "metadata": {},
   "outputs": [
    {
     "name": "stdout",
     "output_type": "stream",
     "text": [
      "ENtered condition\n",
      "12\n"
     ]
    }
   ],
   "source": [
    "k = Mn(13,'*')\n",
    "k.find_generators()\n",
    "print(k.group_order)"
   ]
  },
  {
   "cell_type": "code",
   "execution_count": 15,
   "metadata": {},
   "outputs": [
    {
     "name": "stdout",
     "output_type": "stream",
     "text": [
      "1 1\n",
      "2 12\n",
      "3 3\n",
      "4 6\n",
      "5 4\n",
      "6 12\n",
      "7 12\n",
      "8 4\n",
      "9 3\n",
      "10 6\n",
      "11 12\n",
      "12 2\n"
     ]
    }
   ],
   "source": [
    "for i in k.elements:\n",
    "    print(i, i.order)\n",
    "    "
   ]
  },
  {
   "cell_type": "code",
   "execution_count": 5,
   "metadata": {},
   "outputs": [
    {
     "data": {
      "text/plain": [
       "[<groups.modulo.modulos.members at 0x1e89d517140>,\n",
       " <groups.modulo.modulos.members at 0x1e89d517050>,\n",
       " <groups.modulo.modulos.members at 0x1e89d517170>,\n",
       " <groups.modulo.modulos.members at 0x1e89d5171a0>,\n",
       " <groups.modulo.modulos.members at 0x1e89d5171d0>,\n",
       " <groups.modulo.modulos.members at 0x1e89d517200>,\n",
       " <groups.modulo.modulos.members at 0x1e89d517230>,\n",
       " <groups.modulo.modulos.members at 0x1e89d517260>,\n",
       " <groups.modulo.modulos.members at 0x1e89d516990>,\n",
       " <groups.modulo.modulos.members at 0x1e89d517110>]"
      ]
     },
     "execution_count": 5,
     "metadata": {},
     "output_type": "execute_result"
    }
   ],
   "source": [
    "k._cycles(2)"
   ]
  }
 ],
 "metadata": {
  "kernelspec": {
   "display_name": "Python 3",
   "language": "python",
   "name": "python3"
  },
  "language_info": {
   "codemirror_mode": {
    "name": "ipython",
    "version": 3
   },
   "file_extension": ".py",
   "mimetype": "text/x-python",
   "name": "python",
   "nbconvert_exporter": "python",
   "pygments_lexer": "ipython3",
   "version": "3.12.7"
  }
 },
 "nbformat": 4,
 "nbformat_minor": 2
}
