{
 "cells": [
  {
   "cell_type": "code",
   "execution_count": 3,
   "metadata": {},
   "outputs": [],
   "source": [
    "def prime(n):\n",
    "    for i in range(2,int(n/2)):\n",
    "        if n%i == 0:\n",
    "            return 0\n",
    "    return 1\n"
   ]
  },
  {
   "cell_type": "code",
   "execution_count": 1,
   "metadata": {},
   "outputs": [],
   "source": [
    "primes = [2,3,4,5,7,11,13,17,19,23,29,31,37,41,43,47,53,59,61,67,71,73,79,83,89,97,101,103,107,109,113,127,131,137,139,149,151,157,163,167,173,179,181,191,193,197,199]\n",
    "\n",
    "def prime_decomposition(\n",
    "        k:int\n",
    "        ):\n",
    "    i = 0\n",
    "    factors = {}\n",
    "    while k != 1:\n",
    "        if k%primes[i]  == 0:\n",
    "            k = k//primes[i]\n",
    "            if primes[i] not in factors.keys():\n",
    "                factors[primes[i]] = 1\n",
    "            else:\n",
    "                factors[primes[i]]+=1\n",
    "        else:\n",
    "            i+=1\n",
    "\n",
    "\n",
    "\n",
    "    return factors"
   ]
  },
  {
   "cell_type": "code",
   "execution_count": 2,
   "metadata": {},
   "outputs": [],
   "source": [
    "from groups import Mn"
   ]
  },
  {
   "cell_type": "code",
   "execution_count": 3,
   "metadata": {},
   "outputs": [
    {
     "name": "stdout",
     "output_type": "stream",
     "text": [
      "[[0.5877852522924731, 0.8090169943749475, 0], [0.9510565162951535, 0.30901699437494745, 0], [0.9510565162951536, -0.30901699437494734, 0], [0.5877852522924732, -0.8090169943749473, 0], [1.2246467991473532e-16, -1.0, 0], [-0.587785252292473, -0.8090169943749475, 0], [-0.9510565162951535, -0.30901699437494756, 0], [-0.9510565162951536, 0.30901699437494723, 0], [-0.5877852522924734, 0.8090169943749473, 0], [-2.4492935982947064e-16, 1.0, 0]]\n",
      "{1: [2], 2: [3], 3: [4], 4: [5], 5: [6], 6: [7], 7: [8], 8: [9], 9: [0], 0: [1]}\n",
      "{2: 1, 5: 1}\n",
      "5\n"
     ]
    },
    {
     "ename": "AttributeError",
     "evalue": "'modulo' object has no attribute 'subgroup_generated'",
     "output_type": "error",
     "traceback": [
      "\u001b[1;31m---------------------------------------------------------------------------\u001b[0m",
      "\u001b[1;31mAttributeError\u001b[0m                            Traceback (most recent call last)",
      "Cell \u001b[1;32mIn[3], line 2\u001b[0m\n\u001b[0;32m      1\u001b[0m k \u001b[38;5;241m=\u001b[39m Mn(\u001b[38;5;241m10\u001b[39m)\n\u001b[1;32m----> 2\u001b[0m values \u001b[38;5;241m=\u001b[39m \u001b[43mk\u001b[49m\u001b[38;5;241;43m.\u001b[39;49m\u001b[43msubgroups\u001b[49m\u001b[43m(\u001b[49m\u001b[43m)\u001b[49m[\u001b[38;5;241m0\u001b[39m]\n",
      "File \u001b[1;32mc:\\Users\\werak\\work\\projectG\\groups\\modulo\\modulos.py:147\u001b[0m, in \u001b[0;36mmodulo.subgroups\u001b[1;34m(self)\u001b[0m\n\u001b[0;32m    145\u001b[0m \u001b[38;5;28mprint\u001b[39m(i)\n\u001b[0;32m    146\u001b[0m cycles \u001b[38;5;241m=\u001b[39m [\u001b[38;5;28mself\u001b[39m\u001b[38;5;241m.\u001b[39m_cycles(i)]\n\u001b[1;32m--> 147\u001b[0m \u001b[38;5;28;01mfor\u001b[39;00m j \u001b[38;5;129;01min\u001b[39;00m \u001b[38;5;28;43mself\u001b[39;49m\u001b[38;5;241;43m.\u001b[39;49m\u001b[43msubgroup_generated\u001b[49m(i):\n\u001b[0;32m    148\u001b[0m     \u001b[38;5;28mprint\u001b[39m(j)\n\u001b[0;32m    149\u001b[0m \u001b[38;5;28;01mreturn\u001b[39;00m cycles\n",
      "\u001b[1;31mAttributeError\u001b[0m: 'modulo' object has no attribute 'subgroup_generated'"
     ]
    }
   ],
   "source": [
    "k = Mn(10)\n",
    "values = k.subgroups()[0]"
   ]
  },
  {
   "cell_type": "code",
   "execution_count": 6,
   "metadata": {},
   "outputs": [
    {
     "data": {
      "text/plain": [
       "{0: 0, 1: 1, 2: 2, 3: 3, 4: 4, 5: 5, 6: 6, 7: 7, 8: 8, 9: 9}"
      ]
     },
     "execution_count": 6,
     "metadata": {},
     "output_type": "execute_result"
    }
   ],
   "source": [
    "k = range(10)\n",
    "d = dict(zip(k,k))\n",
    "d"
   ]
  },
  {
   "cell_type": "code",
   "execution_count": 5,
   "metadata": {},
   "outputs": [
    {
     "data": {
      "text/plain": [
       "[<groups.modulo.modulos.members at 0x1e89d517140>,\n",
       " <groups.modulo.modulos.members at 0x1e89d517050>,\n",
       " <groups.modulo.modulos.members at 0x1e89d517170>,\n",
       " <groups.modulo.modulos.members at 0x1e89d5171a0>,\n",
       " <groups.modulo.modulos.members at 0x1e89d5171d0>,\n",
       " <groups.modulo.modulos.members at 0x1e89d517200>,\n",
       " <groups.modulo.modulos.members at 0x1e89d517230>,\n",
       " <groups.modulo.modulos.members at 0x1e89d517260>,\n",
       " <groups.modulo.modulos.members at 0x1e89d516990>,\n",
       " <groups.modulo.modulos.members at 0x1e89d517110>]"
      ]
     },
     "execution_count": 5,
     "metadata": {},
     "output_type": "execute_result"
    }
   ],
   "source": [
    "k._cycles(2)"
   ]
  }
 ],
 "metadata": {
  "kernelspec": {
   "display_name": "Python 3",
   "language": "python",
   "name": "python3"
  },
  "language_info": {
   "codemirror_mode": {
    "name": "ipython",
    "version": 3
   },
   "file_extension": ".py",
   "mimetype": "text/x-python",
   "name": "python",
   "nbconvert_exporter": "python",
   "pygments_lexer": "ipython3",
   "version": "3.12.7"
  }
 },
 "nbformat": 4,
 "nbformat_minor": 2
}
