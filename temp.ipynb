{
 "cells": [
  {
   "cell_type": "code",
   "execution_count": 10,
   "metadata": {},
   "outputs": [
    {
     "name": "stdout",
     "output_type": "stream",
     "text": [
      "[0.8660254037844386, 0.5000000000000001, 0]\n",
      "[0.8660254037844387, -0.4999999999999998, 0]\n",
      "[1.2246467991473532e-16, -1.0, 0]\n",
      "[-0.8660254037844385, -0.5000000000000004, 0]\n",
      "[-0.8660254037844386, 0.5000000000000001, 0]\n",
      "[-2.4492935982947064e-16, 1.0, 0]\n",
      "{1: [2], 2: [3], 3: [4], 4: [5], 5: [0], 0: [1]}\n"
     ]
    }
   ],
   "source": [
    "from groups.modulo import modulos as md \n",
    "k = md.modulo(6)\n",
    "\n",
    "k.edges_and_vertices()\n",
    "for i in k.vertices:\n",
    "    print(i)\n",
    "print(k.edges)"
   ]
  },
  {
   "cell_type": "code",
   "execution_count": 2,
   "metadata": {},
   "outputs": [],
   "source": [
    "k = range()"
   ]
  },
  {
   "cell_type": "code",
   "execution_count": null,
   "metadata": {},
   "outputs": [],
   "source": []
  },
  {
   "cell_type": "code",
   "execution_count": null,
   "metadata": {},
   "outputs": [],
   "source": []
  }
 ],
 "metadata": {
  "kernelspec": {
   "display_name": "Python 3",
   "language": "python",
   "name": "python3"
  },
  "language_info": {
   "codemirror_mode": {
    "name": "ipython",
    "version": 3
   },
   "file_extension": ".py",
   "mimetype": "text/x-python",
   "name": "python",
   "nbconvert_exporter": "python",
   "pygments_lexer": "ipython3",
   "version": "3.12.7"
  }
 },
 "nbformat": 4,
 "nbformat_minor": 2
}
