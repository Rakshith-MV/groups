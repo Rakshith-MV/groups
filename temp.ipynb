{
 "cells": [
  {
   "cell_type": "code",
   "execution_count": 1,
   "metadata": {},
   "outputs": [],
   "source": [
    "from web.pyscripts import backend"
   ]
  },
  {
   "cell_type": "code",
   "execution_count": 1,
   "metadata": {},
   "outputs": [],
   "source": [
    "from groups.modulo import modulos"
   ]
  },
  {
   "cell_type": "code",
   "execution_count": 2,
   "metadata": {},
   "outputs": [
    {
     "name": "stdout",
     "output_type": "stream",
     "text": [
      "2\n",
      "4\n",
      "6\n",
      "8\n",
      "0\n"
     ]
    }
   ],
   "source": [
    "k = modulos.modulo(10,'+',generator=2)\n"
   ]
  },
  {
   "cell_type": "code",
   "execution_count": 2,
   "metadata": {},
   "outputs": [
    {
     "name": "stdout",
     "output_type": "stream",
     "text": [
      "ENtered condition\n",
      "12\n"
     ]
    }
   ],
   "source": [
    "k = Mn(13,'*')\n",
    "k.find_generators()\n",
    "print(k.group_order)"
   ]
  },
  {
   "cell_type": "code",
   "execution_count": 15,
   "metadata": {},
   "outputs": [
    {
     "name": "stdout",
     "output_type": "stream",
     "text": [
      "1 1\n",
      "2 12\n",
      "3 3\n",
      "4 6\n",
      "5 4\n",
      "6 12\n",
      "7 12\n",
      "8 4\n",
      "9 3\n",
      "10 6\n",
      "11 12\n",
      "12 2\n"
     ]
    }
   ],
   "source": [
    "for i in k.elements:\n",
    "    print(i, i.order)\n",
    "    "
   ]
  },
  {
   "cell_type": "code",
   "execution_count": 5,
   "metadata": {},
   "outputs": [
    {
     "data": {
      "text/plain": [
       "[<groups.modulo.modulos.members at 0x1e89d517140>,\n",
       " <groups.modulo.modulos.members at 0x1e89d517050>,\n",
       " <groups.modulo.modulos.members at 0x1e89d517170>,\n",
       " <groups.modulo.modulos.members at 0x1e89d5171a0>,\n",
       " <groups.modulo.modulos.members at 0x1e89d5171d0>,\n",
       " <groups.modulo.modulos.members at 0x1e89d517200>,\n",
       " <groups.modulo.modulos.members at 0x1e89d517230>,\n",
       " <groups.modulo.modulos.members at 0x1e89d517260>,\n",
       " <groups.modulo.modulos.members at 0x1e89d516990>,\n",
       " <groups.modulo.modulos.members at 0x1e89d517110>]"
      ]
     },
     "execution_count": 5,
     "metadata": {},
     "output_type": "execute_result"
    }
   ],
   "source": [
    "k._cycles(2)"
   ]
  }
 ],
 "metadata": {
  "kernelspec": {
   "display_name": "Python 3",
   "language": "python",
   "name": "python3"
  },
  "language_info": {
   "codemirror_mode": {
    "name": "ipython",
    "version": 3
   },
   "file_extension": ".py",
   "mimetype": "text/x-python",
   "name": "python",
   "nbconvert_exporter": "python",
   "pygments_lexer": "ipython3",
   "version": "3.12.7"
  }
 },
 "nbformat": 4,
 "nbformat_minor": 2
}
